{
 "cells": [
  {
   "cell_type": "code",
   "execution_count": 2,
   "id": "07ae49f2",
   "metadata": {},
   "outputs": [],
   "source": [
    "import numpy as np"
   ]
  },
  {
   "cell_type": "code",
   "execution_count": 6,
   "id": "535bc6f6",
   "metadata": {},
   "outputs": [
    {
     "name": "stdout",
     "output_type": "stream",
     "text": [
      "[[1 1 1]\n",
      " [1 1 1]\n",
      " [1 1 1]]\n"
     ]
    }
   ],
   "source": [
    "mtx_1=np.array([[1,1,1], [1,1,1], [1,1,1]])\n",
    "print(mtx_1)"
   ]
  },
  {
   "cell_type": "code",
   "execution_count": 16,
   "id": "d7521f57",
   "metadata": {},
   "outputs": [
    {
     "name": "stdout",
     "output_type": "stream",
     "text": [
      "[1. 1. 1. 1. 1.]\n"
     ]
    },
    {
     "data": {
      "text/plain": [
       "dtype('float64')"
      ]
     },
     "execution_count": 16,
     "metadata": {},
     "output_type": "execute_result"
    }
   ],
   "source": [
    "mat=np.ones(5)\n",
    "print(mat)\n",
    "mat.dtype"
   ]
  },
  {
   "cell_type": "code",
   "execution_count": 19,
   "id": "3a261b44",
   "metadata": {},
   "outputs": [
    {
     "name": "stdout",
     "output_type": "stream",
     "text": [
      "[[1. 1. 1. 1.]\n",
      " [1. 1. 1. 1.]\n",
      " [1. 1. 1. 1.]]\n"
     ]
    }
   ],
   "source": [
    "#creting 3x4 matrix\n",
    "new_mat=np.ones((3,4))\n",
    "print(new_mat)"
   ]
  },
  {
   "cell_type": "code",
   "execution_count": 24,
   "id": "341a8a82",
   "metadata": {},
   "outputs": [
    {
     "name": "stdout",
     "output_type": "stream",
     "text": [
      "[[1 1 1 1]\n",
      " [1 1 1 1]\n",
      " [1 1 1 1]]\n"
     ]
    }
   ],
   "source": [
    "a=np.ones((3,4), dtype = int)\n",
    "print(a)"
   ]
  },
  {
   "cell_type": "code",
   "execution_count": 29,
   "id": "ec264123",
   "metadata": {},
   "outputs": [
    {
     "name": "stdout",
     "output_type": "stream",
     "text": [
      "[[0. 0. 0. 0. 0. 0.]\n",
      " [0. 0. 0. 0. 0. 0.]\n",
      " [0. 0. 0. 0. 0. 0.]\n",
      " [0. 0. 0. 0. 0. 0.]]\n"
     ]
    }
   ],
   "source": [
    "zero_mat=np.zeros((4,6))\n",
    "print(zero_mat)"
   ]
  },
  {
   "cell_type": "code",
   "execution_count": 32,
   "id": "9d6503ab",
   "metadata": {},
   "outputs": [
    {
     "name": "stdout",
     "output_type": "stream",
     "text": [
      "[[False False False False False False]\n",
      " [False False False False False False]\n",
      " [False False False False False False]\n",
      " [False False False False False False]]\n"
     ]
    }
   ],
   "source": [
    "zero_mat=np.zeros((4,6), dtype = bool)\n",
    "print(zero_mat)"
   ]
  },
  {
   "cell_type": "code",
   "execution_count": 35,
   "id": "906516f0",
   "metadata": {},
   "outputs": [
    {
     "name": "stdout",
     "output_type": "stream",
     "text": [
      "[['' '' '' '' '' '']\n",
      " ['' '' '' '' '' '']\n",
      " ['' '' '' '' '' '']\n",
      " ['' '' '' '' '' '']]\n"
     ]
    }
   ],
   "source": [
    "zero_mat=np.zeros((4,6), dtype = str)\n",
    "print(zero_mat)"
   ]
  },
  {
   "cell_type": "code",
   "execution_count": 37,
   "id": "d9240a55",
   "metadata": {},
   "outputs": [
    {
     "name": "stdout",
     "output_type": "stream",
     "text": [
      "[[ True  True  True  True  True  True]\n",
      " [ True  True  True  True  True  True]\n",
      " [ True  True  True  True  True  True]\n",
      " [ True  True  True  True  True  True]]\n"
     ]
    }
   ],
   "source": [
    "zero_mat=np.ones((4,6), dtype = bool)\n",
    "print(zero_mat)"
   ]
  },
  {
   "cell_type": "code",
   "execution_count": 38,
   "id": "ca19cae0",
   "metadata": {},
   "outputs": [
    {
     "name": "stdout",
     "output_type": "stream",
     "text": [
      "[['1' '1' '1' '1' '1' '1']\n",
      " ['1' '1' '1' '1' '1' '1']\n",
      " ['1' '1' '1' '1' '1' '1']\n",
      " ['1' '1' '1' '1' '1' '1']]\n"
     ]
    }
   ],
   "source": [
    "zero_mat=np.ones((4,6), dtype = str)\n",
    "print(zero_mat)"
   ]
  },
  {
   "cell_type": "code",
   "execution_count": 41,
   "id": "f76668b9",
   "metadata": {},
   "outputs": [
    {
     "name": "stdout",
     "output_type": "stream",
     "text": [
      "[[0.00000000e+000 0.00000000e+000 0.00000000e+000]\n",
      " [0.00000000e+000 0.00000000e+000 7.76671195e-321]\n",
      " [1.05699242e-307 3.11523242e-307 2.14321575e-312]]\n"
     ]
    }
   ],
   "source": [
    "emp_mat=np.empty((3,3))\n",
    "print(emp_mat)"
   ]
  },
  {
   "cell_type": "code",
   "execution_count": null,
   "id": "a3ed48d7",
   "metadata": {},
   "outputs": [],
   "source": []
  }
 ],
 "metadata": {
  "kernelspec": {
   "display_name": "Python 3 (ipykernel)",
   "language": "python",
   "name": "python3"
  },
  "language_info": {
   "codemirror_mode": {
    "name": "ipython",
    "version": 3
   },
   "file_extension": ".py",
   "mimetype": "text/x-python",
   "name": "python",
   "nbconvert_exporter": "python",
   "pygments_lexer": "ipython3",
   "version": "3.10.9"
  }
 },
 "nbformat": 4,
 "nbformat_minor": 5
}
